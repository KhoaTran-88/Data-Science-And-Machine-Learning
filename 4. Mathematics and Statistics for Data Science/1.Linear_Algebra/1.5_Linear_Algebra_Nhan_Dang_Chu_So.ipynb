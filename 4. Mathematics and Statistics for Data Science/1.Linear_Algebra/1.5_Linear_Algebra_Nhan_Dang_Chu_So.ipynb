{
 "cells": [
  {
   "cell_type": "markdown",
   "metadata": {},
   "source": [
    "# **Nhận dạng chữ số viết tay** (*Optical Character Recognition* - *OCR*)"
   ]
  },
  {
   "cell_type": "code",
   "execution_count": 2,
   "metadata": {},
   "outputs": [],
   "source": [
    "## Thư viện\n",
    "import numpy             as np\n",
    "import matplotlib.pyplot as plt\n",
    "import warnings\n",
    "warnings.filterwarnings('ignore')\n",
    "\n",
    "from numpy.linalg        import norm\n",
    "from sklearn             import datasets"
   ]
  },
  {
   "cell_type": "markdown",
   "metadata": {},
   "source": [
    "## Đọc dữ liệu mẫu chữ viết tay"
   ]
  },
  {
   "cell_type": "code",
   "execution_count": 3,
   "metadata": {},
   "outputs": [],
   "source": [
    "# Đọc các mẫu (samples) hình ảnh của các chữ số viết tay từ thư viện sklearn\n",
    "data = datasets.load_digits()\n",
    "images = data.images # hình ảnh các mẫu\n",
    "labels = data.target # nhãn phân loại các mẫu"
   ]
  },
  {
   "cell_type": "code",
   "execution_count": 4,
   "metadata": {},
   "outputs": [
    {
     "data": {
      "text/plain": [
       "(1797,)"
      ]
     },
     "execution_count": 4,
     "metadata": {},
     "output_type": "execute_result"
    }
   ],
   "source": [
    "## Số lượng mẫu\n",
    "labels.shape"
   ]
  },
  {
   "cell_type": "code",
   "execution_count": 5,
   "metadata": {},
   "outputs": [
    {
     "data": {
      "text/plain": [
       "(1797, 8, 8)"
      ]
     },
     "execution_count": 5,
     "metadata": {},
     "output_type": "execute_result"
    }
   ],
   "source": [
    "## Kích thước của mỗi mẫu: ma trận 8 x 8\n",
    "images.shape"
   ]
  },
  {
   "cell_type": "code",
   "execution_count": 6,
   "metadata": {},
   "outputs": [
    {
     "data": {
      "image/png": "[encoded data removed]",
      "text/plain": [
       "<Figure size 640x480 with 1 Axes>"
      ]
     },
     "metadata": {},
     "output_type": "display_data"
    }
   ],
   "source": [
    "## Xem mẫu hình ảnh\n",
    "idx = 13 # chọn tùy ý\n",
    "img = images[idx]\n",
    "plt.Figure(figsize=(3,3))\n",
    "plt.imshow(img, cmap=plt.cm.gray_r)\n",
    "plt.show()"
   ]
  },
  {
   "cell_type": "code",
   "execution_count": 7,
   "metadata": {},
   "outputs": [
    {
     "data": {
      "text/plain": [
       "array([[ 0.,  2.,  9., 15., 14.,  9.,  3.,  0.],\n",
       "       [ 0.,  4., 13.,  8.,  9., 16.,  8.,  0.],\n",
       "       [ 0.,  0.,  0.,  6., 14., 15.,  3.,  0.],\n",
       "       [ 0.,  0.,  0., 11., 14.,  2.,  0.,  0.],\n",
       "       [ 0.,  0.,  0.,  2., 15., 11.,  0.,  0.],\n",
       "       [ 0.,  0.,  0.,  0.,  2., 15.,  4.,  0.],\n",
       "       [ 0.,  1.,  5.,  6., 13., 16.,  6.,  0.],\n",
       "       [ 0.,  2., 12., 12., 13., 11.,  0.,  0.]])"
      ]
     },
     "execution_count": 7,
     "metadata": {},
     "output_type": "execute_result"
    }
   ],
   "source": [
    "# ma trận biểu diễn ảnh (trắng đen: a[i] = 0..16)\n",
    "img"
   ]
  },
  {
   "cell_type": "code",
   "execution_count": 8,
   "metadata": {},
   "outputs": [
    {
     "name": "stdout",
     "output_type": "stream",
     "text": [
      "Mẫu ảnh là chữ viết tay của số:  3\n"
     ]
    }
   ],
   "source": [
    "# Nhãn phân loại (label / target) các mẫu hình ảnh thứ idx\n",
    "print('Mẫu ảnh là chữ viết tay của số: ', labels[idx])"
   ]
  },
  {
   "cell_type": "markdown",
   "metadata": {},
   "source": [
    "---\n",
    "## **Yêu cầu 1: Tạo ma trận A, có các dòng là vector (có 64 phần tử = 8 x 8)**\n",
    "---"
   ]
  },
  {
   "cell_type": "code",
   "execution_count": 9,
   "metadata": {},
   "outputs": [],
   "source": [
    "## Kích thước của ma trận mẫu ảnh (8x8) ==> định dạng lại thành vector có 64 cột\n",
    "lst = []\n",
    "for img in images:\n",
    "    lst.append(img.reshape(64).tolist())\n",
    "A = np.array(lst)"
   ]
  },
  {
   "cell_type": "code",
   "execution_count": 10,
   "metadata": {},
   "outputs": [
    {
     "data": {
      "text/plain": [
       "(1797, 64)"
      ]
     },
     "execution_count": 10,
     "metadata": {},
     "output_type": "execute_result"
    }
   ],
   "source": [
    "A.shape"
   ]
  },
  {
   "cell_type": "code",
   "execution_count": 11,
   "metadata": {},
   "outputs": [
    {
     "data": {
      "text/plain": [
       "array([ 0.,  2.,  9., 15., 14.,  9.,  3.,  0.,  0.,  4., 13.,  8.,  9.,\n",
       "       16.,  8.,  0.,  0.,  0.,  0.,  6., 14., 15.,  3.,  0.,  0.,  0.,\n",
       "        0., 11., 14.,  2.,  0.,  0.,  0.,  0.,  0.,  2., 15., 11.,  0.,\n",
       "        0.,  0.,  0.,  0.,  0.,  2., 15.,  4.,  0.,  0.,  1.,  5.,  6.,\n",
       "       13., 16.,  6.,  0.,  0.,  2., 12., 12., 13., 11.,  0.,  0.])"
      ]
     },
     "execution_count": 11,
     "metadata": {},
     "output_type": "execute_result"
    }
   ],
   "source": [
    "A[idx]"
   ]
  },
  {
   "cell_type": "code",
   "execution_count": 12,
   "metadata": {},
   "outputs": [],
   "source": [
    "## Hàm tính khoảng cách từ 1 vector đến từng dòng của ma trận\n",
    "def Distance(A, v):\n",
    "    A_v       = (A - v)\n",
    "    distances = []\n",
    "    for i in range(A_v.shape[0]):\n",
    "        distances.append(norm(A_v[i, :]))\n",
    "    return np.array(distances)\n",
    "\n",
    "## Hàm tìm k láng giềng gần nhất với v (ngầm định k = 3)\n",
    "def KNN(A, v, k = 3):\n",
    "    # Khoảng cách từ v đến ma trận A\n",
    "    distances = Distance(A, v)\n",
    "\n",
    "    # Tạo 2 arrays: index và distance\n",
    "    D1 = np.arange(distances.shape[0])\n",
    "    D  = np.c_[D1, distances] # Ghép nối theo CỘT để tạo ma trận có 2 cột (numpy.r_ : ghép nối theo DÒNG)\n",
    "    D  = D[np.argsort(D[:, 1])][:k] # sắp xếp tăng dần theo distance và chọn k phần tử có distance nhỏ nhất\n",
    "    return (D[:,0], D[:,1]) # trả về 2 array: index, distance"
   ]
  },
  {
   "cell_type": "markdown",
   "metadata": {},
   "source": [
    "---\n",
    "## **Yêu cầu 2:**\n",
    "- Tạo vector v là mẫu hình tại vị trí 4 (index = 4); v có kích thước 64\n",
    "- Gọi hàm: idx, dist = KNN(A, v) với A là ma trận vừa tạo\n",
    "- In ra idx và dist\n",
    "- In ra labels[*idx*] và cho nhận xét\n",
    "---"
   ]
  },
  {
   "cell_type": "code",
   "execution_count": 15,
   "metadata": {},
   "outputs": [],
   "source": [
    "# mẫu hình ảnh ở vị trí thứ idx\n",
    "idx   = 4\n",
    "image = images[idx]\n",
    "v     = image.reshape(image.size)"
   ]
  },
  {
   "cell_type": "code",
   "execution_count": 17,
   "metadata": {},
   "outputs": [],
   "source": [
    "## Chọn 3 (ngầm định) mẫu gần v nhất\n",
    "idx, dist = KNN(A, v)\n"
   ]
  },
  {
   "cell_type": "code",
   "execution_count": 18,
   "metadata": {},
   "outputs": [
    {
     "data": {
      "text/plain": [
       "array([   4, 1777,  100])"
      ]
     },
     "execution_count": 18,
     "metadata": {},
     "output_type": "execute_result"
    }
   ],
   "source": [
    "## Index của các phần tử gần vector v nhất\n",
    "idx.astype(int)"
   ]
  },
  {
   "cell_type": "code",
   "execution_count": 19,
   "metadata": {},
   "outputs": [
    {
     "data": {
      "text/plain": [
       "array([ 0.        , 18.43908891, 21.70253441])"
      ]
     },
     "execution_count": 19,
     "metadata": {},
     "output_type": "execute_result"
    }
   ],
   "source": [
    "# Khoảng cách tương ứng\n",
    "dist"
   ]
  },
  {
   "cell_type": "code",
   "execution_count": 20,
   "metadata": {},
   "outputs": [
    {
     "data": {
      "text/plain": [
       "array([4, 4, 4])"
      ]
     },
     "execution_count": 20,
     "metadata": {},
     "output_type": "execute_result"
    }
   ],
   "source": [
    "## Các nhãn phân loại (label / target) của mẫu\n",
    "labels[idx.astype(int)]"
   ]
  },
  {
   "cell_type": "code",
   "execution_count": null,
   "metadata": {},
   "outputs": [],
   "source": []
  }
 ],
 "metadata": {
  "kernelspec": {
   "display_name": "Python 3",
   "language": "python",
   "name": "python3"
  },
  "language_info": {
   "codemirror_mode": {
    "name": "ipython",
    "version": 3
   },
   "file_extension": ".py",
   "mimetype": "text/x-python",
   "name": "python",
   "nbconvert_exporter": "python",
   "pygments_lexer": "ipython3",
   "version": "3.11.4"
  },
  "orig_nbformat": 4
 },
 "nbformat": 4,
 "nbformat_minor": 2
}
