{
 "cells": [
  {
   "cell_type": "markdown",
   "metadata": {},
   "source": [
    "## 1. Vector"
   ]
  },
  {
   "cell_type": "code",
   "execution_count": 1,
   "metadata": {},
   "outputs": [],
   "source": [
    "## Thư viện\n",
    "import numpy as np\n",
    "import pandas as pd\n",
    "import scipy.spatial.distance as dist \n",
    "import warnings\n",
    "warnings.filterwarnings('ignore')\n",
    "from numpy.linalg import norm"
   ]
  },
  {
   "cell_type": "markdown",
   "metadata": {},
   "source": [
    "## Tạo Vectors\n",
    ". Tạo vector v1(1,3,5,7)\n",
    ". Tạo vector v2(2,4,6,8)"
   ]
  },
  {
   "cell_type": "code",
   "execution_count": 2,
   "metadata": {},
   "outputs": [
    {
     "name": "stdout",
     "output_type": "stream",
     "text": [
      "[1 3 5 7]\n",
      "[2 4 6 8]\n"
     ]
    }
   ],
   "source": [
    "v1 = np.array([1,3,5,7])\n",
    "v2 = np.array([2,4,6,8])\n",
    "\n",
    "print(v1)\n",
    "print(v2)"
   ]
  },
  {
   "cell_type": "code",
   "execution_count": 3,
   "metadata": {},
   "outputs": [
    {
     "name": "stdout",
     "output_type": "stream",
     "text": [
      "[0 1 2 3 4 5 6 7 8 9]\n"
     ]
    }
   ],
   "source": [
    "## Tạo vecotr với các giá trị được phát sinh theo quy luật\n",
    "v = np.array(np.arange(10))\n",
    "print(v)"
   ]
  },
  {
   "cell_type": "code",
   "execution_count": 4,
   "metadata": {},
   "outputs": [
    {
     "name": "stdout",
     "output_type": "stream",
     "text": [
      "[0. 0. 0. 0. 0.]\n"
     ]
    }
   ],
   "source": [
    "## Tạo vector với các phần tử = 0.0\n",
    "v = np.zeros(5)\n",
    "print(v)"
   ]
  },
  {
   "cell_type": "code",
   "execution_count": 5,
   "metadata": {},
   "outputs": [
    {
     "name": "stdout",
     "output_type": "stream",
     "text": [
      "[1. 1. 1. 1. 1.]\n"
     ]
    }
   ],
   "source": [
    "## Tạo vector với các phần tử = 1.0\n",
    "v = np.ones(5)\n",
    "print(v)"
   ]
  },
  {
   "cell_type": "code",
   "execution_count": 6,
   "metadata": {},
   "outputs": [
    {
     "name": "stdout",
     "output_type": "stream",
     "text": [
      "[0.80110013 0.87346741 0.95751524 0.08249182]\n"
     ]
    }
   ],
   "source": [
    "## Tạo vector với các giá trị được phát sinh một cách ngẫu nhiên\n",
    "v = np.random.random(4)\n",
    "print(v)"
   ]
  },
  {
   "cell_type": "code",
   "execution_count": 7,
   "metadata": {},
   "outputs": [
    {
     "name": "stdout",
     "output_type": "stream",
     "text": [
      "[ 8  5  3 10]\n"
     ]
    }
   ],
   "source": [
    "## Tạo vector với các giá trị số nguyên ngẫu nhiên\n",
    "v = np.random.randint(0,11,4) # tạo 4 phần tử từ 0 => 10\n",
    "print(v)"
   ]
  },
  {
   "cell_type": "markdown",
   "metadata": {},
   "source": [
    "## 2. Tích vô hướng 2 vectors"
   ]
  },
  {
   "cell_type": "code",
   "execution_count": 8,
   "metadata": {},
   "outputs": [
    {
     "data": {
      "text/plain": [
       "(100, 100)"
      ]
     },
     "execution_count": 8,
     "metadata": {},
     "output_type": "execute_result"
    }
   ],
   "source": [
    "## Tính tích vô hướng bằng .dot()\n",
    "v1.dot(v2), v2.dot(v1) #Tính giao hoán"
   ]
  },
  {
   "cell_type": "code",
   "execution_count": 9,
   "metadata": {},
   "outputs": [
    {
     "data": {
      "text/plain": [
       "(100, 100)"
      ]
     },
     "execution_count": 9,
     "metadata": {},
     "output_type": "execute_result"
    }
   ],
   "source": [
    "## Tích vô hướng bằng toán tử @\n",
    "v1 @ v2, v2 @ v1"
   ]
  },
  {
   "cell_type": "markdown",
   "metadata": {},
   "source": [
    "## 3. bang_diem.csv"
   ]
  },
  {
   "cell_type": "code",
   "execution_count": 10,
   "metadata": {},
   "outputs": [],
   "source": [
    "# Tập tin bang_diem.csv lưu trữ điểm thi của các thí sinh\n",
    "# Liệt kê danh sách N thí sinh trúng tuyển (Giá trị N được nhập từ bàn phím): diem_1, diem_2 được tính\n",
    "#hệ số 2 và diem_3 được tính hệ số 1.\n",
    "# Cho biết thí sinh đạt thủ khoa"
   ]
  },
  {
   "cell_type": "code",
   "execution_count": 11,
   "metadata": {},
   "outputs": [
    {
     "name": "stdout",
     "output_type": "stream",
     "text": [
      "Danh sách thí sinh:\n",
      "  maso                ho    ten  diem_1  diem_2  diem_3\n",
      "    1  Huỳnh Thùy Thiên     An     8.0     2.0     7.0\n",
      "    2          Bùi Tuấn    Anh     8.0     8.4     6.4\n",
      "    3           Hồ Tuấn    Anh     7.0     7.6     7.8\n",
      "    4           Ngô Kim    Anh     8.0     7.0     2.5\n",
      "    5       Nguyễn Nhật    Anh     8.0     4.4     3.8\n",
      "    6  Trần Ngọc Phương    Anh     8.0     6.4     7.2\n",
      "    7       Nguyễn Minh   Châu     7.0     8.0     8.4\n",
      "    8  Trịnh Nguyễn Yến   Dung     8.0     2.8     6.8\n",
      "    9         Huỳnh Vạn    Gia     6.0     5.2     5.0\n",
      "   10   Nông Đặng Quỳnh  Giang     8.0     6.4     8.9\n",
      "   11         Đặng Minh    Hào     8.0     7.6     9.2\n",
      "   12          Ngô Quốc    Hào     7.0     5.0     5.4\n",
      "   13   Phạm Đoàn Thanh   Hiền     8.0     9.6     8.7\n",
      "   14       Nguyễn Nhật  Hoàng     8.0     5.6     7.4\n",
      "   15      Nguyễn Thanh  Hương     8.0     4.4     7.2\n",
      "   16           Ngô Gia    Huy     8.0     9.0     9.2\n",
      "   17         Trương Mĩ  Khanh     7.0     3.6     6.3\n",
      "   18 Bùi Nguyễn Phương   Linh     8.0     4.8     8.1\n",
      "   19 Đinh Hoàng Phương   Linh     6.0     6.0     5.2\n",
      "   20        Trần Quang   Long     8.0     8.6     6.7\n",
      "   21       Nguyễn Trúc     Ly     7.0     1.4     8.0\n",
      "   22         Tạ Thị Na     Ly     8.0     4.0     1.6\n",
      "   23         Bùi Thanh     Lý     8.0     5.2     2.4\n",
      "   24            Lưu Sở   Ngân     6.0     6.4     7.0\n",
      "   25      Mai Thị Thảo   Ngọc     6.0     1.0     5.6\n",
      "   26     Ngô Hoàng Anh   Ngọc     7.0     5.6     3.6\n",
      "   27        Đào Lê Bảo Nguyên     8.0     4.4     2.0\n",
      "   28     Nguyễn Phượng Nguyên     6.0     0.4     7.2\n",
      "   29 Nguyễn Thụy Thanh Nguyên     7.0     5.0     4.8\n",
      "   30     Võ Thùy Khánh    Như     7.0     2.4     3.6\n",
      "   31   Nguyễn Thị Hồng  Nhung     7.0     3.6     2.4\n",
      "   32   Trần Đoàn Hoàng   Phúc     7.0     4.8     5.0\n",
      "   33           Đỗ Hoài Phương     9.0     7.2     0.4\n",
      "   34 Nguyễn Ngọc Thanh    Tâm     6.0     2.0     4.4\n",
      "   35  Nguyễn Thị Thanh   Thảo     6.0     3.6     5.6\n",
      "   36         Dương Anh    Thư     8.0     5.6     1.0\n",
      "   37           Lê Minh    Thư     6.0     7.0     6.4\n",
      "   38       Nguyễn Minh    Thư     6.0     2.4     5.2\n",
      "   39      Phan Lê Thủy   Tiên     7.0     1.6     4.0\n",
      "   40    Bùi Chiêu Ngọc  Trinh     8.0     8.0     1.4\n"
     ]
    }
   ],
   "source": [
    "# Mở tập tin bang_diem.csv\n",
    "df = pd.read_csv('Data/bang_diem.csv')\n",
    "print('Danh sách thí sinh:\\n', df.to_string(index = False))"
   ]
  },
  {
   "cell_type": "code",
   "execution_count": 12,
   "metadata": {},
   "outputs": [],
   "source": [
    "# Xét tuyển\n",
    "heso = np.array([2,2,1])\n",
    "N = eval(input(f\"\\n Số chỉ tiêu tuyển sinh (n < {len(df)}) = \"))"
   ]
  },
  {
   "cell_type": "code",
   "execution_count": 13,
   "metadata": {},
   "outputs": [
    {
     "name": "stdout",
     "output_type": "stream",
     "text": [
      "*** Bảng Điểm:\n",
      "     maso                 ho     ten  diem_1  diem_2  diem_3  tong_diem\n",
      "0      1   Huỳnh Thùy Thiên      An     8.0     2.0     7.0       27.0\n",
      "1      2           Bùi Tuấn     Anh     8.0     8.4     6.4       39.2\n",
      "2      3            Hồ Tuấn     Anh     7.0     7.6     7.8       37.0\n",
      "3      4            Ngô Kim     Anh     8.0     7.0     2.5       32.5\n",
      "4      5        Nguyễn Nhật     Anh     8.0     4.4     3.8       28.6\n",
      "5      6   Trần Ngọc Phương     Anh     8.0     6.4     7.2       36.0\n",
      "6      7        Nguyễn Minh    Châu     7.0     8.0     8.4       38.4\n",
      "7      8   Trịnh Nguyễn Yến    Dung     8.0     2.8     6.8       28.4\n",
      "8      9          Huỳnh Vạn     Gia     6.0     5.2     5.0       27.4\n",
      "9     10    Nông Đặng Quỳnh   Giang     8.0     6.4     8.9       37.7\n",
      "10    11          Đặng Minh     Hào     8.0     7.6     9.2       40.4\n",
      "11    12           Ngô Quốc     Hào     7.0     5.0     5.4       29.4\n",
      "12    13    Phạm Đoàn Thanh    Hiền     8.0     9.6     8.7       43.9\n",
      "13    14        Nguyễn Nhật   Hoàng     8.0     5.6     7.4       34.6\n",
      "14    15       Nguyễn Thanh   Hương     8.0     4.4     7.2       32.0\n",
      "15    16            Ngô Gia     Huy     8.0     9.0     9.2       43.2\n",
      "16    17          Trương Mĩ   Khanh     7.0     3.6     6.3       27.5\n",
      "17    18  Bùi Nguyễn Phương    Linh     8.0     4.8     8.1       33.7\n",
      "18    19  Đinh Hoàng Phương    Linh     6.0     6.0     5.2       29.2\n",
      "19    20         Trần Quang    Long     8.0     8.6     6.7       39.9\n",
      "20    21        Nguyễn Trúc      Ly     7.0     1.4     8.0       24.8\n",
      "21    22          Tạ Thị Na      Ly     8.0     4.0     1.6       25.6\n",
      "22    23          Bùi Thanh      Lý     8.0     5.2     2.4       28.8\n",
      "23    24             Lưu Sở    Ngân     6.0     6.4     7.0       31.8\n",
      "24    25       Mai Thị Thảo    Ngọc     6.0     1.0     5.6       19.6\n",
      "25    26      Ngô Hoàng Anh    Ngọc     7.0     5.6     3.6       28.8\n",
      "26    27         Đào Lê Bảo  Nguyên     8.0     4.4     2.0       26.8\n",
      "27    28      Nguyễn Phượng  Nguyên     6.0     0.4     7.2       20.0\n",
      "28    29  Nguyễn Thụy Thanh  Nguyên     7.0     5.0     4.8       28.8\n",
      "29    30      Võ Thùy Khánh     Như     7.0     2.4     3.6       22.4\n",
      "30    31    Nguyễn Thị Hồng   Nhung     7.0     3.6     2.4       23.6\n",
      "31    32    Trần Đoàn Hoàng    Phúc     7.0     4.8     5.0       28.6\n",
      "32    33            Đỗ Hoài  Phương     9.0     7.2     0.4       32.8\n",
      "33    34  Nguyễn Ngọc Thanh     Tâm     6.0     2.0     4.4       20.4\n",
      "34    35   Nguyễn Thị Thanh    Thảo     6.0     3.6     5.6       24.8\n",
      "35    36          Dương Anh     Thư     8.0     5.6     1.0       28.2\n",
      "36    37            Lê Minh     Thư     6.0     7.0     6.4       32.4\n",
      "37    38        Nguyễn Minh     Thư     6.0     2.4     5.2       22.0\n",
      "38    39       Phan Lê Thủy    Tiên     7.0     1.6     4.0       21.2\n",
      "39    40     Bùi Chiêu Ngọc   Trinh     8.0     8.0     1.4       33.4\n"
     ]
    }
   ],
   "source": [
    "## Tính tổng điểm theo hệ số\n",
    "df['tong_diem'] = df[['diem_1', 'diem_2', 'diem_3']] @ heso # tích vô hướng\n",
    "print('*** Bảng Điểm:\\n',df)"
   ]
  },
  {
   "cell_type": "code",
   "execution_count": 14,
   "metadata": {},
   "outputs": [
    {
     "name": "stdout",
     "output_type": "stream",
     "text": [
      "** Danh sách 30 thí sinh trúng tuyển (điểm chuẩn = 26.8):\n",
      " maso                ho    ten  diem_1  diem_2  diem_3  tong_diem\n",
      "    1  Huỳnh Thùy Thiên     An     8.0     2.0     7.0       27.0\n",
      "    2          Bùi Tuấn    Anh     8.0     8.4     6.4       39.2\n",
      "    3           Hồ Tuấn    Anh     7.0     7.6     7.8       37.0\n",
      "    4           Ngô Kim    Anh     8.0     7.0     2.5       32.5\n",
      "    5       Nguyễn Nhật    Anh     8.0     4.4     3.8       28.6\n",
      "    6  Trần Ngọc Phương    Anh     8.0     6.4     7.2       36.0\n",
      "    7       Nguyễn Minh   Châu     7.0     8.0     8.4       38.4\n",
      "    8  Trịnh Nguyễn Yến   Dung     8.0     2.8     6.8       28.4\n",
      "    9         Huỳnh Vạn    Gia     6.0     5.2     5.0       27.4\n",
      "   10   Nông Đặng Quỳnh  Giang     8.0     6.4     8.9       37.7\n",
      "   11         Đặng Minh    Hào     8.0     7.6     9.2       40.4\n",
      "   12          Ngô Quốc    Hào     7.0     5.0     5.4       29.4\n",
      "   13   Phạm Đoàn Thanh   Hiền     8.0     9.6     8.7       43.9\n",
      "   14       Nguyễn Nhật  Hoàng     8.0     5.6     7.4       34.6\n",
      "   15      Nguyễn Thanh  Hương     8.0     4.4     7.2       32.0\n",
      "   16           Ngô Gia    Huy     8.0     9.0     9.2       43.2\n",
      "   17         Trương Mĩ  Khanh     7.0     3.6     6.3       27.5\n",
      "   18 Bùi Nguyễn Phương   Linh     8.0     4.8     8.1       33.7\n",
      "   19 Đinh Hoàng Phương   Linh     6.0     6.0     5.2       29.2\n",
      "   20        Trần Quang   Long     8.0     8.6     6.7       39.9\n",
      "   23         Bùi Thanh     Lý     8.0     5.2     2.4       28.8\n",
      "   24            Lưu Sở   Ngân     6.0     6.4     7.0       31.8\n",
      "   26     Ngô Hoàng Anh   Ngọc     7.0     5.6     3.6       28.8\n",
      "   27        Đào Lê Bảo Nguyên     8.0     4.4     2.0       26.8\n",
      "   29 Nguyễn Thụy Thanh Nguyên     7.0     5.0     4.8       28.8\n",
      "   32   Trần Đoàn Hoàng   Phúc     7.0     4.8     5.0       28.6\n",
      "   33           Đỗ Hoài Phương     9.0     7.2     0.4       32.8\n",
      "   36         Dương Anh    Thư     8.0     5.6     1.0       28.2\n",
      "   37           Lê Minh    Thư     6.0     7.0     6.4       32.4\n",
      "   40    Bùi Chiêu Ngọc  Trinh     8.0     8.0     1.4       33.4\n"
     ]
    }
   ],
   "source": [
    "## Xác định điểm chuẩn trúng tuyển\n",
    "df.sort_values(by = ['tong_diem'], ascending=False, ignore_index=True, inplace=True)\n",
    "diem_chuan = df[N-1:N].tong_diem.values[0]\n",
    "\n",
    "## Danh sách thí sinh trúng tuyển\n",
    "result = df[df.tong_diem >= diem_chuan].sort_values(by = ['maso'])\n",
    "print(f\"** Danh sách {len(result)} thí sinh trúng tuyển (điểm chuẩn = {diem_chuan}):\")\n",
    "print(result.to_string(index=False))"
   ]
  },
  {
   "cell_type": "code",
   "execution_count": 16,
   "metadata": {},
   "outputs": [
    {
     "name": "stdout",
     "output_type": "stream",
     "text": [
      " maso              ho  ten  diem_1  diem_2  diem_3  tong_diem\n",
      "   13 Phạm Đoàn Thanh Hiền     8.0     9.6     8.7       43.9\n"
     ]
    }
   ],
   "source": [
    "## Thí sinh đạt thủ khoa\n",
    "print(df[df.tong_diem == max(df.tong_diem)].to_string(index=False))"
   ]
  },
  {
   "cell_type": "markdown",
   "metadata": {},
   "source": [
    "## 4. Tính NORMS của Vectors"
   ]
  },
  {
   "cell_type": "code",
   "execution_count": 17,
   "metadata": {},
   "outputs": [],
   "source": [
    "## Tạo vector v(1,3,-4,5,7,9,-6)\n",
    "## Tính Norms L1, L2 và Lmax của vector v"
   ]
  },
  {
   "cell_type": "code",
   "execution_count": 18,
   "metadata": {},
   "outputs": [],
   "source": [
    "v = np.array([1,3,-4,5,7,9,-6])"
   ]
  },
  {
   "cell_type": "code",
   "execution_count": 19,
   "metadata": {},
   "outputs": [
    {
     "name": "stdout",
     "output_type": "stream",
     "text": [
      "L1 norm: 35.0\n"
     ]
    }
   ],
   "source": [
    "# L1 norm\n",
    "print(\"L1 norm:\", norm(v,1))"
   ]
  },
  {
   "cell_type": "code",
   "execution_count": 20,
   "metadata": {},
   "outputs": [
    {
     "name": "stdout",
     "output_type": "stream",
     "text": [
      "L2 norm:  14.730919862656235 14.730919862656235\n"
     ]
    }
   ],
   "source": [
    "## L2 norm\n",
    "print(\"L2 norm: \", norm(v,2), norm(v))"
   ]
  },
  {
   "cell_type": "code",
   "execution_count": 21,
   "metadata": {},
   "outputs": [
    {
     "name": "stdout",
     "output_type": "stream",
     "text": [
      "Max norm:  9.0\n"
     ]
    }
   ],
   "source": [
    "## Max norm\n",
    "print('Max norm: ', norm(v, np.inf))"
   ]
  },
  {
   "cell_type": "code",
   "execution_count": 22,
   "metadata": {},
   "outputs": [
    {
     "name": "stdout",
     "output_type": "stream",
     "text": [
      "Manhattan distance =  35.0\n",
      "Euclidean distance =  14.730919862656235\n",
      "Chebyshev distance =  9.0\n"
     ]
    }
   ],
   "source": [
    "# Đại lượng khoảng cách (từ gốc tọa độ đến Đỉnh)\n",
    "O = np.zeros(7) # gốc tọa độ\n",
    "\n",
    "## Các khoảng cách\n",
    "print('Manhattan distance = ', dist.cityblock(O,v))\n",
    "print('Euclidean distance = ', dist.euclidean(O,v))\n",
    "print('Chebyshev distance = ', dist.chebyshev(O,v))"
   ]
  },
  {
   "cell_type": "code",
   "execution_count": null,
   "metadata": {},
   "outputs": [],
   "source": []
  }
 ],
 "metadata": {
  "kernelspec": {
   "display_name": "Python 3",
   "language": "python",
   "name": "python3"
  },
  "language_info": {
   "codemirror_mode": {
    "name": "ipython",
    "version": 3
   },
   "file_extension": ".py",
   "mimetype": "text/x-python",
   "name": "python",
   "nbconvert_exporter": "python",
   "pygments_lexer": "ipython3",
   "version": "3.11.4"
  },
  "orig_nbformat": 4
 },
 "nbformat": 4,
 "nbformat_minor": 2
}
