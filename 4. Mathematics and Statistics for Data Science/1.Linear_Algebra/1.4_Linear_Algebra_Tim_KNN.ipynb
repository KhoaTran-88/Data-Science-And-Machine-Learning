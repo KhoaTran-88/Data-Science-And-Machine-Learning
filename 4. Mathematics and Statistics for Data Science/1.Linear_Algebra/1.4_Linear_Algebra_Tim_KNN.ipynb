{
 "cells": [
  {
   "cell_type": "markdown",
   "metadata": {},
   "source": [
    "# Tìm k láng giềng gần nhất** (*k-Nearest Neighbors*)"
   ]
  },
  {
   "cell_type": "code",
   "execution_count": 1,
   "metadata": {},
   "outputs": [],
   "source": [
    "## Thư viện\n",
    "import numpy      as np\n",
    "import pandas     as pd\n",
    "import warnings\n",
    "warnings.filterwarnings('ignore')\n",
    "\n",
    "from numpy.linalg import norm"
   ]
  },
  {
   "cell_type": "markdown",
   "metadata": {},
   "source": [
    "---\n",
    "## **Yêu cầu 1:**\n",
    "*   Tính các khoảng cách từ vector v (hoa mới) đến mỗi dòng (mẫu hoa) trong **iris.csv**\n",
    "---\n"
   ]
  },
  {
   "cell_type": "code",
   "execution_count": 2,
   "metadata": {},
   "outputs": [],
   "source": [
    "## Khởi tạo (tùy ý) v là hoa mới mua rất đẹp, nhưng không biết là loại hoa gì !\n",
    "##    Phương pháp: tìm những mẫu hoa có các đặc tính gần giống với hoa mới mua nhất\n",
    "v = np.array([5.2, 3.2, 1.3, 0.1])"
   ]
  },
  {
   "cell_type": "code",
   "execution_count": 3,
   "metadata": {},
   "outputs": [
    {
     "name": "stdout",
     "output_type": "stream",
     "text": [
      "(150, 4)\n"
     ]
    }
   ],
   "source": [
    "## Đọc tập tin iris.csv vào dataframe và tạo ma trận A\n",
    "df = pd.read_csv('Data/iris.csv')\n",
    "A  = np.array(df[['sepal_length', 'sepal_width', 'petal_length', 'petal_width']])\n",
    "print(A.shape)"
   ]
  },
  {
   "cell_type": "code",
   "execution_count": 4,
   "metadata": {},
   "outputs": [
    {
     "data": {
      "text/plain": [
       "array([0.34641016, 0.38729833, 0.50990195, 0.64807407, 0.46904158])"
      ]
     },
     "execution_count": 4,
     "metadata": {},
     "output_type": "execute_result"
    }
   ],
   "source": [
    "## Tính khoảng cách (Euclidean) từ v_new đến mỗi dòng của ma trận A (150 mẫu đã thu thập)\n",
    "A_v       = (A - v) # chuyển từ khái niệm NORM của vector sang KHOẢNG CÁCH giữa 2 điểm\n",
    "distances = []\n",
    "for i in range(A_v.shape[0]):\n",
    "    distances.append(norm(A_v[i, :])) # L2 norm\n",
    "result = np.array(distances)\n",
    "\n",
    "result[:5]"
   ]
  },
  {
   "cell_type": "markdown",
   "metadata": {},
   "source": [
    "---\n",
    "## **Yêu cầu 2:**\n",
    "- Viết hàm Distance(A, v) để tính khoảng cách từ vector v đến ma trận A\n",
    "- Hàm trả về vector là các khoảng cách (tính theo norm 2)\n",
    "---"
   ]
  },
  {
   "cell_type": "code",
   "execution_count": 5,
   "metadata": {},
   "outputs": [],
   "source": [
    "def Distance(A, v):\n",
    "    A_v = (A - v)\n",
    "    distances = []\n",
    "    for i in range(A_v.shape[0]):\n",
    "        distances.append(norm(A_v[i, :]))\n",
    "    return np.array(distances)"
   ]
  },
  {
   "cell_type": "code",
   "execution_count": 6,
   "metadata": {},
   "outputs": [
    {
     "data": {
      "text/plain": [
       "array([0.34641016, 0.38729833, 0.50990195, 0.64807407, 0.46904158])"
      ]
     },
     "execution_count": 6,
     "metadata": {},
     "output_type": "execute_result"
    }
   ],
   "source": [
    "result = Distance(A, v)\n",
    "result[:5]"
   ]
  },
  {
   "cell_type": "markdown",
   "metadata": {},
   "source": [
    "---\n",
    "## **Yêu cầu 3: Viết hàm KNN(A, v, k = 3) để tìm k phần tử gần nhất (ngầm định 3)**\n",
    "- B1: Gọi đến hàm Distance để tính khoảng cách từ vector v đến ma trận A\n",
    "- B2: Tạo ma trận D có 2 cột: D[index (bắt đầu từ 0), distance]\n",
    "- B3: Sắp xếp D tăng dần theo khoảng cách và chọn ra k phần tử có khoảng cách nhỏ nhất\n",
    "\n",
    "##### ==> Hàm trả về 2 arrays: $index$ và $distance$\n",
    "---"
   ]
  },
  {
   "cell_type": "code",
   "execution_count": 7,
   "metadata": {},
   "outputs": [],
   "source": [
    "## Hàm tìm k láng giềng gần nhất với v (ngầm định k = 3)\n",
    "def KNN(A, v, k = 3):\n",
    "    # Khoảng cách từ v đến ma trận A\n",
    "    distances = Distance(A, v)\n",
    "\n",
    "    # Tạo 2 arrays: index và distance\n",
    "    D1 = np.arange(distances.shape[0]) # index\n",
    "    D  = np.c_[D1, distances] # Ghép nối theo CỘT để tạo ma trận có 2 cột (numpy.r_ : ghép nối theo DÒNG)\n",
    "    D  = D[np.argsort(D[:, 1])][:k] # sắp xếp tăng dần theo distance và chọn k phần tử có distance nhỏ nhất\n",
    "    return (D[:,0], D[:,1]) # trả về 2 array: index, distance"
   ]
  },
  {
   "cell_type": "markdown",
   "metadata": {},
   "source": [
    "---\n",
    "## **Yêu cầu 4:**\n",
    "- Tìm k phần tử gần vector v nhất\n",
    "- In ra index và distance\n",
    "- In ra df.iloc[ind] và cho nhận xét\n",
    "---"
   ]
  },
  {
   "cell_type": "code",
   "execution_count": 8,
   "metadata": {},
   "outputs": [],
   "source": [
    "## Tìm k láng giềng gần nhất\n",
    "k = 9 # chọn tùy ý\n",
    "idx, dist = KNN(A,v,k)"
   ]
  },
  {
   "cell_type": "code",
   "execution_count": 9,
   "metadata": {},
   "outputs": [
    {
     "data": {
      "text/plain": [
       "array([28, 35, 49, 39,  0,  7, 34, 27,  9])"
      ]
     },
     "execution_count": 9,
     "metadata": {},
     "output_type": "execute_result"
    }
   ],
   "source": [
    "## Index của các láng giềng gần vector v nhất\n",
    "idx.astype(int)"
   ]
  },
  {
   "cell_type": "code",
   "execution_count": 10,
   "metadata": {},
   "outputs": [
    {
     "data": {
      "text/plain": [
       "array([0.24494897, 0.24494897, 0.26457513, 0.31622777, 0.34641016,\n",
       "       0.36055513, 0.37416574, 0.37416574, 0.37416574])"
      ]
     },
     "execution_count": 10,
     "metadata": {},
     "output_type": "execute_result"
    }
   ],
   "source": [
    "## khoảng cách tương ứng giữa v và các láng giềng gần nhất\n",
    "dist"
   ]
  },
  {
   "cell_type": "code",
   "execution_count": 11,
   "metadata": {},
   "outputs": [
    {
     "data": {
      "text/html": [
       "<div>\n",
       "<style scoped>\n",
       "    .dataframe tbody tr th:only-of-type {\n",
       "        vertical-align: middle;\n",
       "    }\n",
       "\n",
       "    .dataframe tbody tr th {\n",
       "        vertical-align: top;\n",
       "    }\n",
       "\n",
       "    .dataframe thead th {\n",
       "        text-align: right;\n",
       "    }\n",
       "</style>\n",
       "<table border=\"1\" class=\"dataframe\">\n",
       "  <thead>\n",
       "    <tr style=\"text-align: right;\">\n",
       "      <th></th>\n",
       "      <th>sepal_length</th>\n",
       "      <th>sepal_width</th>\n",
       "      <th>petal_length</th>\n",
       "      <th>petal_width</th>\n",
       "      <th>species</th>\n",
       "    </tr>\n",
       "  </thead>\n",
       "  <tbody>\n",
       "    <tr>\n",
       "      <th>28</th>\n",
       "      <td>5.2</td>\n",
       "      <td>3.4</td>\n",
       "      <td>1.4</td>\n",
       "      <td>0.2</td>\n",
       "      <td>setosa</td>\n",
       "    </tr>\n",
       "    <tr>\n",
       "      <th>35</th>\n",
       "      <td>5.0</td>\n",
       "      <td>3.2</td>\n",
       "      <td>1.2</td>\n",
       "      <td>0.2</td>\n",
       "      <td>setosa</td>\n",
       "    </tr>\n",
       "    <tr>\n",
       "      <th>49</th>\n",
       "      <td>5.0</td>\n",
       "      <td>3.3</td>\n",
       "      <td>1.4</td>\n",
       "      <td>0.2</td>\n",
       "      <td>setosa</td>\n",
       "    </tr>\n",
       "    <tr>\n",
       "      <th>39</th>\n",
       "      <td>5.1</td>\n",
       "      <td>3.4</td>\n",
       "      <td>1.5</td>\n",
       "      <td>0.2</td>\n",
       "      <td>setosa</td>\n",
       "    </tr>\n",
       "    <tr>\n",
       "      <th>0</th>\n",
       "      <td>5.1</td>\n",
       "      <td>3.5</td>\n",
       "      <td>1.4</td>\n",
       "      <td>0.2</td>\n",
       "      <td>setosa</td>\n",
       "    </tr>\n",
       "    <tr>\n",
       "      <th>7</th>\n",
       "      <td>5.0</td>\n",
       "      <td>3.4</td>\n",
       "      <td>1.5</td>\n",
       "      <td>0.2</td>\n",
       "      <td>setosa</td>\n",
       "    </tr>\n",
       "    <tr>\n",
       "      <th>34</th>\n",
       "      <td>4.9</td>\n",
       "      <td>3.1</td>\n",
       "      <td>1.5</td>\n",
       "      <td>0.1</td>\n",
       "      <td>setosa</td>\n",
       "    </tr>\n",
       "    <tr>\n",
       "      <th>27</th>\n",
       "      <td>5.2</td>\n",
       "      <td>3.5</td>\n",
       "      <td>1.5</td>\n",
       "      <td>0.2</td>\n",
       "      <td>setosa</td>\n",
       "    </tr>\n",
       "    <tr>\n",
       "      <th>9</th>\n",
       "      <td>4.9</td>\n",
       "      <td>3.1</td>\n",
       "      <td>1.5</td>\n",
       "      <td>0.1</td>\n",
       "      <td>setosa</td>\n",
       "    </tr>\n",
       "  </tbody>\n",
       "</table>\n",
       "</div>"
      ],
      "text/plain": [
       "    sepal_length  sepal_width  petal_length  petal_width species\n",
       "28           5.2          3.4           1.4          0.2  setosa\n",
       "35           5.0          3.2           1.2          0.2  setosa\n",
       "49           5.0          3.3           1.4          0.2  setosa\n",
       "39           5.1          3.4           1.5          0.2  setosa\n",
       "0            5.1          3.5           1.4          0.2  setosa\n",
       "7            5.0          3.4           1.5          0.2  setosa\n",
       "34           4.9          3.1           1.5          0.1  setosa\n",
       "27           5.2          3.5           1.5          0.2  setosa\n",
       "9            4.9          3.1           1.5          0.1  setosa"
      ]
     },
     "execution_count": 11,
     "metadata": {},
     "output_type": "execute_result"
    }
   ],
   "source": [
    "## Xem dữ liệu của k láng giềng gần nhất\n",
    "df.iloc[idx]"
   ]
  },
  {
   "cell_type": "code",
   "execution_count": 12,
   "metadata": {},
   "outputs": [],
   "source": [
    "## Nhận xét: với v = [5.2, 3.2, 1.3, 0.1] thì các láng giềng gần nhất thuộc nhóm hóa setosa"
   ]
  },
  {
   "cell_type": "code",
   "execution_count": 13,
   "metadata": {},
   "outputs": [
    {
     "data": {
      "text/html": [
       "<div>\n",
       "<style scoped>\n",
       "    .dataframe tbody tr th:only-of-type {\n",
       "        vertical-align: middle;\n",
       "    }\n",
       "\n",
       "    .dataframe tbody tr th {\n",
       "        vertical-align: top;\n",
       "    }\n",
       "\n",
       "    .dataframe thead th {\n",
       "        text-align: right;\n",
       "    }\n",
       "</style>\n",
       "<table border=\"1\" class=\"dataframe\">\n",
       "  <thead>\n",
       "    <tr style=\"text-align: right;\">\n",
       "      <th></th>\n",
       "      <th>sepal_length</th>\n",
       "      <th>sepal_width</th>\n",
       "      <th>petal_length</th>\n",
       "      <th>petal_width</th>\n",
       "      <th>species</th>\n",
       "    </tr>\n",
       "  </thead>\n",
       "  <tbody>\n",
       "    <tr>\n",
       "      <th>28</th>\n",
       "      <td>5.2</td>\n",
       "      <td>3.4</td>\n",
       "      <td>1.4</td>\n",
       "      <td>0.2</td>\n",
       "      <td>setosa</td>\n",
       "    </tr>\n",
       "    <tr>\n",
       "      <th>35</th>\n",
       "      <td>5.0</td>\n",
       "      <td>3.2</td>\n",
       "      <td>1.2</td>\n",
       "      <td>0.2</td>\n",
       "      <td>setosa</td>\n",
       "    </tr>\n",
       "    <tr>\n",
       "      <th>49</th>\n",
       "      <td>5.0</td>\n",
       "      <td>3.3</td>\n",
       "      <td>1.4</td>\n",
       "      <td>0.2</td>\n",
       "      <td>setosa</td>\n",
       "    </tr>\n",
       "  </tbody>\n",
       "</table>\n",
       "</div>"
      ],
      "text/plain": [
       "    sepal_length  sepal_width  petal_length  petal_width species\n",
       "28           5.2          3.4           1.4          0.2  setosa\n",
       "35           5.0          3.2           1.2          0.2  setosa\n",
       "49           5.0          3.3           1.4          0.2  setosa"
      ]
     },
     "execution_count": 13,
     "metadata": {},
     "output_type": "execute_result"
    }
   ],
   "source": [
    "## Nếu chọn 3 láng giềng gần nhất (giá trị ngầm định): không cần gởi tham số k\n",
    "idx, dist = KNN(A, v)\n",
    "df.iloc[idx]"
   ]
  },
  {
   "cell_type": "code",
   "execution_count": null,
   "metadata": {},
   "outputs": [],
   "source": []
  }
 ],
 "metadata": {
  "kernelspec": {
   "display_name": "Python 3",
   "language": "python",
   "name": "python3"
  },
  "language_info": {
   "codemirror_mode": {
    "name": "ipython",
    "version": 3
   },
   "file_extension": ".py",
   "mimetype": "text/x-python",
   "name": "python",
   "nbconvert_exporter": "python",
   "pygments_lexer": "ipython3",
   "version": "3.11.4"
  },
  "orig_nbformat": 4
 },
 "nbformat": 4,
 "nbformat_minor": 2
}
