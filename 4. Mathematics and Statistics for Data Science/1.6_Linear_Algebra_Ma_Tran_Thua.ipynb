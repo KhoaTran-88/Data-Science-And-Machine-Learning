{
 "cells": [
  {
   "cell_type": "markdown",
   "metadata": {},
   "source": [
    "# ** Ma trận thưa**"
   ]
  },
  {
   "cell_type": "markdown",
   "metadata": {},
   "source": [
    "---\n",
    "## **Phương pháp CSR (Compressed Sparse Row)**\n",
    "   Giả sử ma trận A có **m** dòng và A có **p** phần từ <> 0\n",
    "   \n",
    "   ** Tạo 3 arrays có kích thước khác nhau:\n",
    "\n",
    "      1) data[p]      : chứa các giá trị <> 0\n",
    "      2) indices[p]   : chứa các chỉ số CỘT của các phần tử <> 0\n",
    "      3) indptr[m + 1]: chứa một dãy số tăng (không đều) từ 0 cho đến p\n",
    "                        là VỊ TRÍ BẮT ĐẦU rút trích trong data[] cho mỗi dòng\n",
    "         idxptr = (start_r(0), start_r(1), start_r(2), ..., start_r(m-1), p)\n",
    "         \n",
    "         Lưu ý: indptr[0]     = start_r(0) = 0\n",
    "                idxptr[m + 1] = p\n",
    "                \n",
    "         VD: idxptr = (0, 2, 5, 7, 9, 12)\n",
    "         Gọi P(i) là tập các giá trị <> 0 của dòng i, rút trích từ trong data[]\n",
    "            P(0) = { data[0], data[1] }\n",
    "            P(1) = { data[2], data[3], data[4] }\n",
    "            P(2) = { data[5], data[6] }\n",
    "            P(3) = { data[7], data[8] }\n",
    "            P(4) = { data[9], data[10], data[11] }\n",
    "---"
   ]
  },
  {
   "cell_type": "markdown",
   "metadata": {},
   "source": [
    "---\n",
    "## **Yêu cầu 1: Lưu trữ ma trận thưa dưới dạng CSR**\n",
    "---"
   ]
  },
  {
   "cell_type": "code",
   "execution_count": 5,
   "metadata": {},
   "outputs": [],
   "source": [
    "import numpy        as np\n",
    "import scipy.sparse as sparse\n",
    "import warnings\n",
    "warnings.filterwarnings('ignore')\n",
    "\n",
    "A = np.array([[8, 0, 0, 6, 0, 0],\n",
    "              [0, 0, 9, 0, 0, 4],\n",
    "              [0, 0, 0, 3, 0, 0]])"
   ]
  },
  {
   "cell_type": "code",
   "execution_count": 6,
   "metadata": {},
   "outputs": [],
   "source": [
    "# Chuyển ma trận sang CSR format\n",
    "csr = sparse.csr_matrix(A)"
   ]
  },
  {
   "cell_type": "code",
   "execution_count": 7,
   "metadata": {},
   "outputs": [
    {
     "name": "stdout",
     "output_type": "stream",
     "text": [
      "DATA array:  [8 6 9 4 3]\n"
     ]
    }
   ],
   "source": [
    "## DATA array: [8, 6, 9, 4, 3]\n",
    "print('DATA array: ', csr.data)"
   ]
  },
  {
   "cell_type": "code",
   "execution_count": 9,
   "metadata": {},
   "outputs": [
    {
     "name": "stdout",
     "output_type": "stream",
     "text": [
      "INDICES array:  [0 3 2 5 3]\n"
     ]
    }
   ],
   "source": [
    "## INDICES Array: [0, 3, 2, 5, 3]\n",
    "print('INDICES array: ', csr.indices)"
   ]
  },
  {
   "cell_type": "code",
   "execution_count": 10,
   "metadata": {},
   "outputs": [
    {
     "name": "stdout",
     "output_type": "stream",
     "text": [
      "POINTER array:  [0 2 4 5]\n"
     ]
    }
   ],
   "source": [
    "## POINTER array: [0 2 4 5]\n",
    "print('POINTER array: ', csr.indptr)"
   ]
  },
  {
   "cell_type": "code",
   "execution_count": 11,
   "metadata": {},
   "outputs": [
    {
     "name": "stdout",
     "output_type": "stream",
     "text": [
      "Lưu ý: Nếu không chỉ định các properties ---> LIL format:\n",
      "  (0, 0)\t8\n",
      "  (0, 3)\t6\n",
      "  (1, 2)\t9\n",
      "  (1, 5)\t4\n",
      "  (2, 3)\t3\n"
     ]
    }
   ],
   "source": [
    "## Lưu ý:\n",
    "print('Lưu ý: Nếu không chỉ định các properties ---> LIL format:')\n",
    "print(csr)"
   ]
  },
  {
   "cell_type": "markdown",
   "metadata": {},
   "source": [
    "---\n",
    "## **Yêu cầu 2: Tái tạo ma trận thưa từ CSR format**\n",
    "---"
   ]
  },
  {
   "cell_type": "code",
   "execution_count": 12,
   "metadata": {},
   "outputs": [
    {
     "name": "stdout",
     "output_type": "stream",
     "text": [
      "\n",
      "Tái tạo ma trận từ CSR format (default shape):\n",
      " [[8 0 0 6 0 0]\n",
      " [0 0 9 0 0 4]\n",
      " [0 0 0 3 0 0]]\n"
     ]
    }
   ],
   "source": [
    "## Input: 3 arrays\n",
    "d   = np.array([8, 6, 9, 4, 3])\n",
    "ind = np.array([0, 3, 2, 5, 3])\n",
    "ptr = np.array([0, 2, 4, 5])\n",
    "\n",
    "## Tái tạo ma trận thưa\n",
    "mtx = sparse.csr_matrix((d, ind, ptr))\n",
    "\n",
    "print('\\nTái tạo ma trận từ CSR format (default shape):\\n', mtx.todense())"
   ]
  },
  {
   "cell_type": "code",
   "execution_count": 13,
   "metadata": {},
   "outputs": [
    {
     "name": "stdout",
     "output_type": "stream",
     "text": [
      "\n",
      "Tái tạo ma trận từ CSR format (explicit shape):\n",
      " [[8 0 0 6 0 0 0 0 0 0]\n",
      " [0 0 9 0 0 4 0 0 0 0]\n",
      " [0 0 0 3 0 0 0 0 0 0]]\n"
     ]
    }
   ],
   "source": [
    "mtx = sparse.csr_matrix((d, ind, ptr), shape = (3, 10))\n",
    "print('\\nTái tạo ma trận từ CSR format (explicit shape):\\n', mtx.todense())"
   ]
  },
  {
   "cell_type": "code",
   "execution_count": null,
   "metadata": {},
   "outputs": [],
   "source": []
  }
 ],
 "metadata": {
  "kernelspec": {
   "display_name": "Python 3",
   "language": "python",
   "name": "python3"
  },
  "language_info": {
   "codemirror_mode": {
    "name": "ipython",
    "version": 3
   },
   "file_extension": ".py",
   "mimetype": "text/x-python",
   "name": "python",
   "nbconvert_exporter": "python",
   "pygments_lexer": "ipython3",
   "version": "3.11.4"
  },
  "orig_nbformat": 4
 },
 "nbformat": 4,
 "nbformat_minor": 2
}
