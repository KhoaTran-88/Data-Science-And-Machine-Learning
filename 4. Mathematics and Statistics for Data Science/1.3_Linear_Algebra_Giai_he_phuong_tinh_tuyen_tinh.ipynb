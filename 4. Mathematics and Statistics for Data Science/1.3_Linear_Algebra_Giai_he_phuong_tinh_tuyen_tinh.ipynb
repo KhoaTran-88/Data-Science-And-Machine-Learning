{
 "cells": [
  {
   "cell_type": "markdown",
   "metadata": {},
   "source": [
    "# Hệ Phương Trình Tuyến Tính"
   ]
  },
  {
   "cell_type": "code",
   "execution_count": 1,
   "metadata": {},
   "outputs": [],
   "source": [
    "## Thư viện\n",
    "import numpy as np \n",
    "import warnings\n",
    "warnings.filterwarnings('ignore')\n",
    "\n",
    "from numpy.linalg import det, inv, matrix_rank"
   ]
  },
  {
   "cell_type": "markdown",
   "metadata": {},
   "source": [
    "---\n",
    "## **Yêu cầu 1: Giải hệ PT tuyến tính: Ax = b**\n",
    "- Ma trận hệ số A: [[1, -2], [0, 4]]\n",
    "- Vector hệ số tự do b: [1, -2]\n",
    "### $ Ax = b => x = A^{-1}.b $\n",
    "---"
   ]
  },
  {
   "cell_type": "code",
   "execution_count": 3,
   "metadata": {},
   "outputs": [
    {
     "name": "stdout",
     "output_type": "stream",
     "text": [
      "det(A) = 4.0\n"
     ]
    }
   ],
   "source": [
    "## Ma trận hệ số A\n",
    "A = np.array([[1,-2], [0, 4]])\n",
    "# Kiểm tra tính khả nghịch của A\n",
    "print(f'det(A) = {det(A)}')"
   ]
  },
  {
   "cell_type": "code",
   "execution_count": 4,
   "metadata": {},
   "outputs": [
    {
     "data": {
      "text/plain": [
       "array([ 1, -2])"
      ]
     },
     "execution_count": 4,
     "metadata": {},
     "output_type": "execute_result"
    }
   ],
   "source": [
    "## Vector hệ số tự do b\n",
    "b = np.array([1,-2])\n",
    "b"
   ]
  },
  {
   "cell_type": "code",
   "execution_count": 5,
   "metadata": {},
   "outputs": [
    {
     "name": "stdout",
     "output_type": "stream",
     "text": [
      "Hệ nghiệm (x1, x2) =  [ 0.  -0.5]\n"
     ]
    }
   ],
   "source": [
    "## Giải hệ phương trình dựa trên ma trận nghịch đảo: X = inv(A) @ b\n",
    "x = inv(A) @ b \n",
    "print('Hệ nghiệm (x1, x2) = ',x)"
   ]
  },
  {
   "cell_type": "markdown",
   "metadata": {},
   "source": [
    "---\n",
    "## **Yêu cầu 2: Giải hệ PT tuyến tính**\n",
    "#### 2x - 2y + z = -3\n",
    "#### x + 3y - 2z = 1\n",
    "#### 3x - y - z = 2\n",
    "---"
   ]
  },
  {
   "cell_type": "code",
   "execution_count": 6,
   "metadata": {},
   "outputs": [
    {
     "name": "stdout",
     "output_type": "stream",
     "text": [
      "det(A) = -10.000000000000002\n"
     ]
    }
   ],
   "source": [
    "A = np.array([[2,-2,1],[1,3,-2],[3,-1,-1]])\n",
    "b = np.array([-3,1,2])\n",
    "\n",
    "# Kiểm tra tính khả nghịch của A, nếu khác 0 thì khả nghịch\n",
    "print(f'det(A) = {det(A)}')"
   ]
  },
  {
   "cell_type": "code",
   "execution_count": 7,
   "metadata": {},
   "outputs": [
    {
     "name": "stdout",
     "output_type": "stream",
     "text": [
      "Hệ nghiệm (x1, x2, x3) =  [-1.4 -2.  -4.2]\n"
     ]
    }
   ],
   "source": [
    "# Nghiệm của hệ PT\n",
    "x = inv(A) @ b\n",
    "print('Hệ nghiệm (x1, x2, x3) = ', x)"
   ]
  },
  {
   "cell_type": "code",
   "execution_count": 8,
   "metadata": {},
   "outputs": [
    {
     "name": "stdout",
     "output_type": "stream",
     "text": [
      "b =  [-3.  1.  2.]\n"
     ]
    }
   ],
   "source": [
    "# Kiểm chứng lại nghiệm của PT: A.x = b\n",
    "\n",
    "print('b = ', A @ x)"
   ]
  },
  {
   "cell_type": "markdown",
   "metadata": {},
   "source": [
    "---\n",
    "## **Yêu cầu 3: Giải hệ PT tuyến tính (VÔ NGHIỆM)**\n",
    "#### 3x + 2y = 5\n",
    "#### 6x + 4y = 1\n",
    "---"
   ]
  },
  {
   "cell_type": "code",
   "execution_count": 9,
   "metadata": {},
   "outputs": [
    {
     "name": "stdout",
     "output_type": "stream",
     "text": [
      "det(A) = 0.0\n"
     ]
    }
   ],
   "source": [
    "A = np.array([[3,2], [6,4]])\n",
    "b = np.array([5,1])\n",
    "\n",
    "## Kiểm tra tính khả nghịch của A\n",
    "print(f'det(A) = {det(A)}')\n",
    "\n",
    "# Lý do kiểm tra det(A) vì nếu = 0, có 2 trường hợp xảy ra, phương trình VÔ ĐỊNH hay VÔ NGHIỆM"
   ]
  },
  {
   "cell_type": "code",
   "execution_count": 11,
   "metadata": {},
   "outputs": [
    {
     "name": "stdout",
     "output_type": "stream",
     "text": [
      "Hạng của ma trận [A] = 1\n",
      "Hạng của dạng mở rộng [A|B] = 2\n",
      "Hệ phương trình Vô Nghiệm\n"
     ]
    }
   ],
   "source": [
    "## Áp dụng định lý Kronecker - Capelli để kiểm tra nếu det(A) = 0\n",
    "\n",
    "rank_A = matrix_rank(A)\n",
    "print(f'Hạng của ma trận [A] = {rank_A}')\n",
    "\n",
    "A_B = np.array([[3,2,5],[6,4,1]])\n",
    "rank_AB = matrix_rank(A_B)\n",
    "print(f'Hạng của dạng mở rộng [A|B] = {rank_AB}')\n",
    "\n",
    "if(det(A) == 0):\n",
    "    if (rank_AB == rank_A):\n",
    "        print(\"Hệ phương trình Vô Định\")\n",
    "    else:\n",
    "        print(\"Hệ phương trình Vô Nghiệm\")"
   ]
  },
  {
   "cell_type": "markdown",
   "metadata": {},
   "source": [
    "---\n",
    "## **Yêu cầu 4: Giải hệ PT tuyến tính (VÔ ĐỊNH)**\n",
    "#### 3x + 2y = 5\n",
    "#### 6x + 4y = 10\n",
    "---"
   ]
  },
  {
   "cell_type": "code",
   "execution_count": 12,
   "metadata": {},
   "outputs": [
    {
     "name": "stdout",
     "output_type": "stream",
     "text": [
      "det(A) = 0.0\n"
     ]
    }
   ],
   "source": [
    "A = np.array([[3,2],[6,4]])\n",
    "b = np.array([5,10])\n",
    "\n",
    "# Kiểm tra tính khả nghịc của A\n",
    "print(f'det(A) = {det(A)}')"
   ]
  },
  {
   "cell_type": "code",
   "execution_count": 13,
   "metadata": {},
   "outputs": [
    {
     "name": "stdout",
     "output_type": "stream",
     "text": [
      "Hạng của ma trận [A] = 1\n",
      "Hạng của dạng mở rộng [A|B] = 1\n",
      "Hệ phương trình VÔ ĐỊNH\n"
     ]
    }
   ],
   "source": [
    "## Áp dụng định lý Kronecker – Capelli\n",
    "rank_A = matrix_rank(A)\n",
    "print(f'Hạng của ma trận [A] = {rank_A}')\n",
    "\n",
    "A_B = np.array([[3, 2, 5], [6, 4, 10]])\n",
    "rank_AB = matrix_rank(A_B)\n",
    "print(f'Hạng của dạng mở rộng [A|B] = {rank_AB}')\n",
    "\n",
    "if (det(A) == 0):\n",
    "    if (rank_AB == rank_A):\n",
    "        print('Hệ phương trình VÔ ĐỊNH')\n",
    "    else:\n",
    "        print('Hệ phương trình VÔ NGHIỆM')"
   ]
  },
  {
   "cell_type": "markdown",
   "metadata": {},
   "source": [
    "Định lý Kronecker–Capelli: Định lý Kronecker–Capelli (hoặc định lý về hạng) là một định lý trong đại số tuyến tính. Nó nói rằng hệ phương trình tuyến tính có nghiệm duy nhất khi và chỉ khi hạng của ma trận hệ số A bằng hạng của ma trận kết hợp [A|B], và độc lập tuyến tính nếu hạng của ma trận A bằng số lượng cột của nó (số ẩn trong hệ phương trình). Nếu hạng của ma trận kết hợp [A|B] lớn hơn hạng của ma trận A, hệ phương trình không có nghiệm hoặc vô định."
   ]
  },
  {
   "cell_type": "markdown",
   "metadata": {},
   "source": [
    "## **Yêu cầu 5: Giải hệ phương trình tuyến tính**\n",
    "Một nhà đầu tư có vốn 500K muốn đầu tư vào 3 cổ phiếu A, B, C. Hãy xác định số tiền cần đầu tư vào A, B, C dựa trên những điều kiện ràng buộc như sau\n",
    "- Giá trị cổ phiếu A, B, C lần lượt là 50, 70, 30\n",
    "- Tỷ lệ lợi nhuận (dự báo) A, B, C lần lượt là 12%, 16%, 9%\n",
    "- Mua số cổ phiếu A gấp đôi số cổ phiếu B\n",
    "- Mục tiêu lợi nhuận 13%/năm"
   ]
  },
  {
   "cell_type": "code",
   "execution_count": 15,
   "metadata": {},
   "outputs": [
    {
     "name": "stdout",
     "output_type": "stream",
     "text": [
      "Số lượng cổ phiếu A nên mua = 5063\n",
      "Số lượng cổ phiếu B nên mua = 2531\n",
      "Số lượng cổ phiếu C nên mua = 2320\n"
     ]
    }
   ],
   "source": [
    "## Mô hình hóa bài toán --> Xây dựng hệ phương trình tuyến tính\n",
    "##    Đặt x1, x2, x3 lần lượt là số lượng cổ phiếu A, B, C cần mua\n",
    "##\n",
    "##          50 * x1 +         70 * x2 +         30 * x3 = 500000\n",
    "##               x1 -          2 * x2                   = 0\n",
    "##  (.12 * 50) * x1 + (.16 * 70) * x2 + (.09 * 30) * x3 = (.13 * 500000)\n",
    "\n",
    "# Hệ số giá trị cổ phiếu\n",
    "prices = np.array([50, 70, 30])\n",
    "\n",
    "# Hệ số lợi nhuận dự báo\n",
    "profits = np.array([0.12, 0.16, 0.09])\n",
    "\n",
    "# Mục tiêu lợi nhuận hàng năm\n",
    "target_profit = 0.13\n",
    "\n",
    "# Vốn đầu tư 500.000\n",
    "total_investment = 500000\n",
    "\n",
    "# Xây dựng ma trận hệ số và vector kết quả\n",
    "\n",
    "A = np.array([[50,70,30],[1,-2,0],[0.12*50, 0.16*70, 0.09*30]])\n",
    "b = np.array([total_investment, 0, target_profit * total_investment])\n",
    "\n",
    "#Giải hệ phương trình bằng hàm np.linalg.solve()\n",
    "investments = np.linalg.solve(A,b)\n",
    "\n",
    "# Nghiệm của hệ phương trình\n",
    "\n",
    "print(f'Số lượng cổ phiếu A nên mua = {int(investments[0])}')\n",
    "print(f'Số lượng cổ phiếu B nên mua = {int(investments[1])}')\n",
    "print(f'Số lượng cổ phiếu C nên mua = {int(investments[2])}')"
   ]
  },
  {
   "cell_type": "code",
   "execution_count": null,
   "metadata": {},
   "outputs": [],
   "source": []
  }
 ],
 "metadata": {
  "kernelspec": {
   "display_name": "Python 3",
   "language": "python",
   "name": "python3"
  },
  "language_info": {
   "codemirror_mode": {
    "name": "ipython",
    "version": 3
   },
   "file_extension": ".py",
   "mimetype": "text/x-python",
   "name": "python",
   "nbconvert_exporter": "python",
   "pygments_lexer": "ipython3",
   "version": "3.11.4"
  },
  "orig_nbformat": 4
 },
 "nbformat": 4,
 "nbformat_minor": 2
}
