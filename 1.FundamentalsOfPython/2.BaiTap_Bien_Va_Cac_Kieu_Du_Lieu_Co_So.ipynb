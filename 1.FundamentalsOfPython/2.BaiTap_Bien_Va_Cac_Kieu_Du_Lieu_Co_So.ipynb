{
 "cells": [
  {
   "cell_type": "markdown",
   "metadata": {},
   "source": [
    "### Bài tập 1\n",
    "1. Thêm dấu ngoặc đơn để biểu thức có giá trị là 1\n",
    "    A = 5 - 3 // 2\n",
    "2. Thêm dấu ngoặc đơn vào biểu thức để có giá trị là 0\n",
    "    B = 8 - 3 * 2 -1 + 1"
   ]
  },
  {
   "cell_type": "code",
   "execution_count": 1,
   "metadata": {},
   "outputs": [
    {
     "name": "stdout",
     "output_type": "stream",
     "text": [
      "1\n"
     ]
    }
   ],
   "source": [
    "a = (5-3) // 2\n",
    "print(a)"
   ]
  },
  {
   "cell_type": "code",
   "execution_count": 2,
   "metadata": {},
   "outputs": [
    {
     "name": "stdout",
     "output_type": "stream",
     "text": [
      "0\n"
     ]
    }
   ],
   "source": [
    "b =  8 - (3*2) - (1+1)\n",
    "print(b)"
   ]
  },
  {
   "cell_type": "markdown",
   "metadata": {},
   "source": [
    "### Bài Tập 2 \n",
    "Tính tiền hàng\n",
    "Nhập vào đơn giá, số lượng\n",
    "in ra thành tiền = đơn giá * số lượng"
   ]
  },
  {
   "cell_type": "code",
   "execution_count": 3,
   "metadata": {},
   "outputs": [],
   "source": [
    "sl = float(input(\"Mời bạn nhập vào số lượng: \"))\n",
    "dg = float(input(\"Mời bạn nhập vào đơn giá: \"))"
   ]
  },
  {
   "cell_type": "code",
   "execution_count": 4,
   "metadata": {},
   "outputs": [
    {
     "name": "stdout",
     "output_type": "stream",
     "text": [
      "Tổng tiền là:  66.0\n"
     ]
    }
   ],
   "source": [
    "thanhtien = sl * dg\n",
    "print(\"Tổng tiền là: \", thanhtien)"
   ]
  },
  {
   "cell_type": "markdown",
   "metadata": {},
   "source": [
    "### Bài tập 3\n",
    "Đổi nhiệt độ C sang F.\n",
    "Độ F = 9/5 * độ C + 32"
   ]
  },
  {
   "cell_type": "code",
   "execution_count": 5,
   "metadata": {},
   "outputs": [
    {
     "name": "stdout",
     "output_type": "stream",
     "text": [
      "37.5 độ C => độ 99.5\n"
     ]
    }
   ],
   "source": [
    "c = float(input(\"Mời bạn nhập vào nhiệt độ C: \"))\n",
    "f = ((9/5)*c) + 32\n",
    "print(f\"{c} độ C => độ {f}\")"
   ]
  },
  {
   "cell_type": "markdown",
   "metadata": {},
   "source": [
    "### Bài tập 4\n",
    "Xử lý chuỗi"
   ]
  },
  {
   "cell_type": "code",
   "execution_count": 6,
   "metadata": {},
   "outputs": [
    {
     "name": "stdout",
     "output_type": "stream",
     "text": [
      "Chiều dài chuỗi là:  20\n",
      "Ký tự thứ 5 trong chuỗi là: n\n",
      "Các ký tự trong range 2,7 là: thon \n"
     ]
    }
   ],
   "source": [
    "chuoi = input(\"Mời bạn nhập vào một chuỗi: \")\n",
    "print(\"Chiều dài chuỗi là: \", len(chuoi))\n",
    "vitri = int(input(\"Nhập vào vị trí: \"))\n",
    "print(f\"Ký tự thứ {vitri} trong chuỗi là: {chuoi[vitri]}\")\n",
    "nhap_range = input(\"Nhập vào range index để lấy ký tự: \")\n",
    "print(f\"Các ký tự trong range {nhap_range} là: {chuoi[int(nhap_range[0]):int(nhap_range[2])]}\")"
   ]
  },
  {
   "cell_type": "markdown",
   "metadata": {},
   "source": [
    "### Bài tập 5\n",
    "Tính tiền lãi ngân hàng"
   ]
  },
  {
   "cell_type": "markdown",
   "metadata": {},
   "source": [
    "### Tiền lãi = (số tiền gửi * số tháng) * (lãi suất năm / 12)\n",
    "### Tổng số tiền = số tiền gửi + tiền lãi"
   ]
  },
  {
   "cell_type": "code",
   "execution_count": 7,
   "metadata": {},
   "outputs": [
    {
     "name": "stdout",
     "output_type": "stream",
     "text": [
      "Tiền vốn là: 100,000,000.0\n",
      "Tiền lãi sau 12 là: 7,600,000.0\n",
      "Tổng tiền bạn nhận được sau 12 là: 107,600,000.0\n"
     ]
    }
   ],
   "source": [
    "lai_suat = float(input(\"Mời bạn nhập lãi suất: \"))\n",
    "sotien = float(input(\"Bạn gởi bao nhiêu tiền: \"))\n",
    "sothang = int(input(\"Nhập vào số tháng: \"))\n",
    "\n",
    "tienlai = ((sotien * sothang) * (lai_suat / 12)) / 100\n",
    "tongtien = sotien + tienlai\n",
    "\n",
    "print(f\"Tiền vốn là: {sotien:,}\")\n",
    "print(f\"Tiền lãi sau {sothang} là: {tienlai:,}\")\n",
    "print(f\"Tổng tiền bạn nhận được sau {sothang} tháng là: {tongtien:,}\")"
   ]
  },
  {
   "cell_type": "code",
   "execution_count": null,
   "metadata": {},
   "outputs": [],
   "source": []
  }
 ],
 "metadata": {
  "kernelspec": {
   "display_name": "Python 3",
   "language": "python",
   "name": "python3"
  },
  "language_info": {
   "codemirror_mode": {
    "name": "ipython",
    "version": 3
   },
   "file_extension": ".py",
   "mimetype": "text/x-python",
   "name": "python",
   "nbconvert_exporter": "python",
   "pygments_lexer": "ipython3",
   "version": "3.11.4"
  },
  "orig_nbformat": 4
 },
 "nbformat": 4,
 "nbformat_minor": 2
}
