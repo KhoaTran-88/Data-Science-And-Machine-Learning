{
 "cells": [
  {
   "cell_type": "code",
   "execution_count": 1,
   "metadata": {},
   "outputs": [
    {
     "name": "stdout",
     "output_type": "stream",
     "text": [
      "Hello Python with Visual Code\n"
     ]
    }
   ],
   "source": [
    "print('Hello Python with Visual Code')"
   ]
  },
  {
   "cell_type": "code",
   "execution_count": 2,
   "metadata": {},
   "outputs": [
    {
     "name": "stdout",
     "output_type": "stream",
     "text": [
      "**  **  ******  **        **        *******\n",
      "**  **  **      **        **        **   **\n",
      "**  **  **      **        **        **   **\n",
      "******  ******  **        **        **   **\n",
      "**  **  **      **        **        **   **\n",
      "**  **  **      **        **        **   **\n",
      "**  **  ******  ********  ********  *******\n"
     ]
    }
   ],
   "source": [
    "print(\"**  **  ******  **        **        *******\")\n",
    "print(\"**  **  **      **        **        **   **\")\n",
    "print(\"**  **  **      **        **        **   **\")\n",
    "print(\"******  ******  **        **        **   **\")\n",
    "print(\"**  **  **      **        **        **   **\")\n",
    "print(\"**  **  **      **        **        **   **\")\n",
    "print(\"**  **  ******  ********  ********  *******\")"
   ]
  },
  {
   "cell_type": "code",
   "execution_count": 3,
   "metadata": {},
   "outputs": [],
   "source": [
    "x, y = 10, 5"
   ]
  },
  {
   "cell_type": "code",
   "execution_count": 4,
   "metadata": {},
   "outputs": [
    {
     "name": "stdout",
     "output_type": "stream",
     "text": [
      "x =  10 , y =  5\n"
     ]
    }
   ],
   "source": [
    "print('x = ', x, ', y = ',y)"
   ]
  },
  {
   "cell_type": "code",
   "execution_count": 5,
   "metadata": {},
   "outputs": [
    {
     "name": "stdout",
     "output_type": "stream",
     "text": [
      "Tong =  15\n",
      "Hieu =  5\n",
      "Tich =  50\n",
      "Thuong =  2.0\n"
     ]
    }
   ],
   "source": [
    "print('Tong = ', x + y)\n",
    "print('Hieu = ', x - y)\n",
    "print('Tich = ', x * y)\n",
    "print('Thuong = ', x / y)"
   ]
  },
  {
   "cell_type": "code",
   "execution_count": null,
   "metadata": {},
   "outputs": [],
   "source": []
  }
 ],
 "metadata": {
  "kernelspec": {
   "display_name": "Python 3",
   "language": "python",
   "name": "python3"
  },
  "language_info": {
   "codemirror_mode": {
    "name": "ipython",
    "version": 3
   },
   "file_extension": ".py",
   "mimetype": "text/x-python",
   "name": "python",
   "nbconvert_exporter": "python",
   "pygments_lexer": "ipython3",
   "version": "3.11.4"
  },
  "orig_nbformat": 4
 },
 "nbformat": 4,
 "nbformat_minor": 2
}
